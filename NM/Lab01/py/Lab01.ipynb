{
 "cells": [
  {
   "cell_type": "markdown",
   "metadata": {},
   "source": [
    "# Задание 1. Интерполяция полиномом Лагранжа"
   ]
  },
  {
   "cell_type": "markdown",
   "metadata": {},
   "source": [
    "## Задание:\n",
    "\n",
    "#### 1. Написать программу, исходные данные: \n",
    "Дан отрезок [a, b] - вводим с клавиатеры, и функция, по которой будем считать значения в узлах. Используем многочлен второй степени (3 узла), и они равноотстощие на отрезке [a, b]. С помощью двойного цикла запрограммировать вычисление многочлена Лагранжа в произволной точке x. --- См. interpolate1.\n",
    "\n",
    "#### 2. Функция f задана таблицей значений. \n",
    "Найти с помощью многочлена Лагранжа L2(x) приближенное значение функции в точках x = 1.5 и x = 2.5. --- См. interpolate2.\n",
    "\n",
    "#### 3. Построить графики функции f(x) и полинома Лагранжа"
   ]
  },
  {
   "cell_type": "markdown",
   "metadata": {},
   "source": [
    "### Импорт и вспомогатльные функции для интерполяции многочленом Лагранжа:"
   ]
  },
  {
   "cell_type": "code",
   "execution_count": 26,
   "metadata": {
    "collapsed": true
   },
   "outputs": [],
   "source": [
    "import numpy as np"
   ]
  },
  {
   "cell_type": "code",
   "execution_count": 27,
   "metadata": {
    "collapsed": true
   },
   "outputs": [],
   "source": [
    "import matplotlib.pyplot as plt\n",
    "plt.style.use('bmh')\n",
    "%matplotlib inline"
   ]
  },
  {
   "cell_type": "code",
   "execution_count": 28,
   "metadata": {
    "collapsed": true
   },
   "outputs": [],
   "source": [
    "def f(x):\n",
    "    y = x*x - 3\n",
    "    return y\n"
   ]
  },
  {
   "cell_type": "code",
   "execution_count": 29,
   "metadata": {
    "collapsed": true
   },
   "outputs": [],
   "source": [
    "def delta(y1, y2):\n",
    "    return abs(y1 - y2)\n"
   ]
  },
  {
   "cell_type": "code",
   "execution_count": 59,
   "metadata": {
    "collapsed": true
   },
   "outputs": [],
   "source": [
    "# Основная функция интерполяции:\n",
    "def interpolate2(X, Y, xx):\n",
    "    sum = 0.0 # Сумма-накопитель\n",
    "    for i in range(0, len(X)):\n",
    "        pp = Y[i]\n",
    "        for j in range(0, len(X)):\n",
    "            if i != j:\n",
    "                pp *= (xx - X[j])/(X[i] - X[j])\n",
    "        sum += pp\n",
    "    return sum\n"
   ]
  },
  {
   "cell_type": "code",
   "execution_count": 60,
   "metadata": {
    "collapsed": true
   },
   "outputs": [],
   "source": [
    "# Вспомогательная функция интерполяции:\n",
    "def interpolate1(a, b, size, xx):\n",
    "    # Передаем в функцию границы отрезка a и b, число разбиений (узлов) этого отрезка size\n",
    "    # и значение xx, для которого ищем y, а также функция f, для которой это все ищется\n",
    "    X = [] # Формируем пустой вектор X (список)\n",
    "    Y = [] # Формируем пустой вектор Y (список)\n",
    "    delta = abs(a - b) / (size - 1) # Находим интервал разбиения\n",
    "    X.append(a) # Начало отрезка\n",
    "    for i in range(1, size - 1):  # Заполняем вектор X\n",
    "        X.append(X[i-1] + delta)\n",
    "    X.append(b) # Конец отрезка\n",
    "    for i in range(0, size):  # Заполняем вектор Y\n",
    "        Y.append(f(X[i]))\n",
    "    # И вызываем основную функцию:\n",
    "    return interpolate2(X, Y, xx)\n",
    "    "
   ]
  },
  {
   "cell_type": "markdown",
   "metadata": {},
   "source": [
    "### Основная программа"
   ]
  },
  {
   "cell_type": "code",
   "execution_count": 61,
   "metadata": {},
   "outputs": [
    {
     "name": "stdout",
     "output_type": "stream",
     "text": [
      "L2(2.5) = 3.25\n",
      "f(2.5) = 3.25\n"
     ]
    }
   ],
   "source": [
    "# Часть первая: известен интервал и функция, выполняем разбиение для многочлена степени n (на n+1 узлов):\n",
    "n = 2 # Многочлен степени 2 = число узлов 3\n",
    "a = 1.0 # Начало\n",
    "b = 3.0 # и конец интервала\n",
    "xx = 2.5 # Точка внутри интервала, для которой выполняется интерполяция\n",
    "# а f - функция исходная, нам она нужна чтобы посчитать в узлах значения f(x)\n",
    "\n",
    "# Выполняем интерполяцию через вспомогательную функцию:\n",
    "yy = interpolate1(a, b, n+1, xx)\n",
    "# А также вычисляем истинное значение функции в этой точке:\n",
    "y = f(xx)\n",
    "\n",
    "# Выводим результат:\n",
    "print(\"L\" + str(n) + \"(\" + str(xx) + \") = \" + str(yy))\n",
    "print(\"f\" + \"(\" + str(xx) + \") = \" + str(y))"
   ]
  },
  {
   "cell_type": "code",
   "execution_count": 64,
   "metadata": {},
   "outputs": [
    {
     "name": "stdout",
     "output_type": "stream",
     "text": [
      "L2(2.5) = 3.25\n",
      "f(2.5) = 3.25\n"
     ]
    }
   ],
   "source": [
    "# Часть вторая: известны узловые точки и функция, выполняем интерполяцию для xx:\n",
    "myX = [] # Создаем пустой вектор X\n",
    "myX.append(1.0) # добавляем в конец вектора\n",
    "myX.append(2.0)\n",
    "myX.append(3.0)\n",
    "\n",
    "myY = [] # Создаем пустой вектор Y\n",
    "myY.append(-2.0) # добавляем в конец вектора\n",
    "myY.append(1.0)\n",
    "myY.append(6.0)\n",
    "\n",
    "xx1 = 2.5 # Точка внутри интервала, для которой выполняется интерполяция\n",
    "\n",
    "# Выполняем интерполяцию через основную функцию:\n",
    "yy1 = interpolate2(myX, myY, xx1)\n",
    "# А также вычисляем истинное значение функции в этой точке:\n",
    "y1 = f(xx1)\n",
    "\n",
    "# Выводим результат:\n",
    "print(\"L\" + str(len(myX)-1) + \"(\" + str(xx1) + \") = \" + str(yy1))\n",
    "print(\"f\" + \"(\" + str(xx1) + \") = \" + str(y1))"
   ]
  },
  {
   "cell_type": "code",
   "execution_count": 78,
   "metadata": {},
   "outputs": [
    {
     "data": {
      "image/png": "[encoded data removed]",
      "text/plain": [
       "<matplotlib.figure.Figure at 0x7fbbfdaf1198>"
      ]
     },
     "metadata": {},
     "output_type": "display_data"
    }
   ],
   "source": [
    "# Часть третья: строим графики по точкам\n",
    "\n",
    "# Пусть известен интервал и функция, выполняем разбиение для многочлена степени n (на n+1 узлов):\n",
    "n = 2 # Многочлен степени 2 = число узлов 3\n",
    "a = 1.0 # Начало\n",
    "b = 3.0 # и конец интервала\n",
    "\n",
    "# Выводим результат:\n",
    "\n",
    "# сначала узловые точки:\n",
    "s1 = 'Узловые точки'\n",
    "sg = 'o'\n",
    "xx = np.linspace(a, b, n+1) # Набор точек внутри интервала, для которых выполняется интерполяция\n",
    "# Выполняем интерполяцию через вспомогательную функцию:\n",
    "yy = interpolate1(a, b, n+1, xx)\n",
    "plt.plot(xx, yy, sg, label=s1)\n",
    "\n",
    "# Затем исходную функцию:\n",
    "s1 = 'Функция ' + 'y=x^2-3'\n",
    "sg = '.'\n",
    "n1 = 50\n",
    "x1 = np.linspace(a, b, n1+1)\n",
    "y1 = f(x1)\n",
    "plt.plot(x1, y1, sg, label=s1)\n",
    "\n",
    "# Затем интерполяцию:\n",
    "s2 = 'Интерполяция n=' + str(n)\n",
    "sg2 = '--'\n",
    "n2 = 50\n",
    "x2 = np.linspace(a, b, n2+1)\n",
    "y2 = interpolate1(a, b, n2+1, x2)\n",
    "plt.plot(x2, y2, sg2, label=s2)\n",
    "\n",
    "# И подписываем оси и легенду\n",
    "plt.title('Полиномиальная интерполяция');\n",
    "plt.xlabel('x')\n",
    "plt.ylabel('y')\n",
    "plt.grid(True)\n",
    "plt.legend(loc=0)\n",
    "plt.show()"
   ]
  },
  {
   "cell_type": "code",
   "execution_count": null,
   "metadata": {
    "collapsed": true
   },
   "outputs": [],
   "source": []
  }
 ],
 "metadata": {
  "kernelspec": {
   "display_name": "Python 3",
   "language": "python",
   "name": "python3"
  },
  "language_info": {
   "codemirror_mode": {
    "name": "ipython",
    "version": 3
   },
   "file_extension": ".py",
   "mimetype": "text/x-python",
   "name": "python",
   "nbconvert_exporter": "python",
   "pygments_lexer": "ipython3",
   "version": "3.5.2"
  }
 },
 "nbformat": 4,
 "nbformat_minor": 2
}
